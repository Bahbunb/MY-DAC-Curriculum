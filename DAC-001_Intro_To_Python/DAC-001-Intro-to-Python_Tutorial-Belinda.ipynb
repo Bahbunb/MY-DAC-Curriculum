{
 "cells": [
  {
   "cell_type": "code",
   "execution_count": 4,
   "metadata": {},
   "outputs": [
    {
     "name": "stdout",
     "output_type": "stream",
     "text": [
      "['Apple', 'Orange', 'Banana']\n",
      "['Orange', 'Banana', 'Tomato']\n"
     ]
    }
   ],
   "source": [
    "#Question 1: Lists\n",
    "#Task:\n",
    "#(a) Create a list named fruits with the items \"apple\", \"orange\", and \"banana\".\n",
    "#(b) Add \"tomato\" to the end of the fruits list.\n",
    "#(c) Remove \"apple\" from the fruits list.\n",
    "\n",
    "fruits =['Apple', 'Orange', 'Banana']\n",
    "print(fruits)\n",
    "fruits.append('Tomato')\n",
    "del fruits[0]\n",
    "print (fruits)\n",
    "\n"
   ]
  },
  {
   "cell_type": "code",
   "execution_count": 11,
   "metadata": {},
   "outputs": [
    {
     "name": "stdout",
     "output_type": "stream",
     "text": [
      "['Physics', 'Chemistry', 'English', 'Math', 'Biology', 'Literature']\n",
      "6\n"
     ]
    }
   ],
   "source": [
    "#Question 2: Tuples\n",
    "#Task:\n",
    "#(a) Create a tuple named subjects with the following elements: \"physics\", \"chemistry\", \"english\", \"math\", and \"biology\".\n",
    "#(b) Attempt to append \"literature\" to the tuple and observe the result. Suggest an alternative way to add an element to a tuple.\n",
    "#(c) Count the number of elements in the subjects tuple.\n",
    "\n",
    "Subjects = ('Physics', 'Chemistry', 'English', 'Math', \"Biology\")\n",
    "SubjectList = list(Subjects)\n",
    "SubjectList.append ('Literature')\n",
    "print(SubjectList)\n",
    "print (len(SubjectList))\n"
   ]
  },
  {
   "cell_type": "code",
   "execution_count": null,
   "metadata": {},
   "outputs": [],
   "source": [
    "#Question 3: Sorting Lists\n",
    "#Task:\n",
    "#(a) Create a list named students_id with the values [10, 6, 7, 8, 9, 3].\n",
    "#(b) Sort the list in descending order and reinitialize it as sorted_students_id.\n",
    "#(c) Remove all elements from the sorted_students_id list."
   ]
  }
 ],
 "metadata": {
  "kernelspec": {
   "display_name": "Python 3",
   "language": "python",
   "name": "python3"
  },
  "language_info": {
   "codemirror_mode": {
    "name": "ipython",
    "version": 3
   },
   "file_extension": ".py",
   "mimetype": "text/x-python",
   "name": "python",
   "nbconvert_exporter": "python",
   "pygments_lexer": "ipython3",
   "version": "3.9.6"
  }
 },
 "nbformat": 4,
 "nbformat_minor": 2
}
