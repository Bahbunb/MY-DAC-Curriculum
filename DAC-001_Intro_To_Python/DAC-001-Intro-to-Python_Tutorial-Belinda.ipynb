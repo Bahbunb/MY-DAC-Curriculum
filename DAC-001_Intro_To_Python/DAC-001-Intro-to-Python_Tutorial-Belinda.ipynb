{
 "cells": [
  {
   "cell_type": "code",
   "execution_count": 4,
   "metadata": {},
   "outputs": [
    {
     "name": "stdout",
     "output_type": "stream",
     "text": [
      "['Apple', 'Orange', 'Banana']\n",
      "['Orange', 'Banana', 'Tomato']\n"
     ]
    }
   ],
   "source": [
    "#Question 1: Lists\n",
    "#Task:\n",
    "#(a) Create a list named fruits with the items \"apple\", \"orange\", and \"banana\".\n",
    "#(b) Add \"tomato\" to the end of the fruits list.\n",
    "#(c) Remove \"apple\" from the fruits list.\n",
    "\n",
    "fruits =['Apple', 'Orange', 'Banana']\n",
    "print(fruits)\n",
    "fruits.append('Tomato')\n",
    "del fruits[0]\n",
    "print (fruits)\n",
    "\n"
   ]
  },
  {
   "cell_type": "code",
   "execution_count": 11,
   "metadata": {},
   "outputs": [
    {
     "name": "stdout",
     "output_type": "stream",
     "text": [
      "['Physics', 'Chemistry', 'English', 'Math', 'Biology', 'Literature']\n",
      "6\n"
     ]
    }
   ],
   "source": [
    "#Question 2: Tuples\n",
    "#Task:\n",
    "#(a) Create a tuple named subjects with the following elements: \"physics\", \"chemistry\", \"english\", \"math\", and \"biology\".\n",
    "#(b) Attempt to append \"literature\" to the tuple and observe the result. Suggest an alternative way to add an element to a tuple.\n",
    "#(c) Count the number of elements in the subjects tuple.\n",
    "\n",
    "Subjects = ('Physics', 'Chemistry', 'English', 'Math', \"Biology\")\n",
    "SubjectList = list(Subjects)\n",
    "SubjectList.append ('Literature')\n",
    "print(SubjectList)\n",
    "print (len(SubjectList))\n"
   ]
  },
  {
   "cell_type": "code",
   "execution_count": 8,
   "metadata": {},
   "outputs": [
    {
     "name": "stdout",
     "output_type": "stream",
     "text": [
      "[10, 9, 8, 7, 6, 3]\n",
      "[]\n"
     ]
    }
   ],
   "source": [
    "#Question 3: Sorting Lists\n",
    "#Task:\n",
    "#(a) Create a list named students_id with the values [10, 6, 7, 8, 9, 3].\n",
    "#(b) Sort the list in descending order and reinitialize it as sorted_students_id.\n",
    "#(c) Remove all elements from the sorted_students_id list.\n",
    "\n",
    "students_id = [10, 6, 7, 8, 9, 3]\n",
    "sorted_students_id = sorted(students_id, reverse=True)\n",
    "print (sorted_students_id)\n",
    "\n",
    "sorted_students_id.clear()\n",
    "print (sorted_students_id)"
   ]
  },
  {
   "cell_type": "code",
   "execution_count": 11,
   "metadata": {},
   "outputs": [
    {
     "name": "stdout",
     "output_type": "stream",
     "text": [
      "[15, 12, 9, 6, 3]\n"
     ]
    }
   ],
   "source": [
    "#Question 4: Generating Lists\n",
    "#Task:\n",
    "#Generate a list of numbers starting from 15 and decreasing by 3 each step, until the number is positive (not inclusive of zero). Store it in a variable named desc_list.\n",
    "\n",
    "desc_list = list(range(15,0,-3))\n",
    "print(desc_list)\n"
   ]
  },
  {
   "cell_type": "code",
   "execution_count": 23,
   "metadata": {},
   "outputs": [
    {
     "name": "stdout",
     "output_type": "stream",
     "text": [
      "[2, 4, 6, 8, 10, 12, 14, 16, 18, 20, 22, 24, 26, 28]\n"
     ]
    }
   ],
   "source": [
    "#Question 5: Generating Lists\n",
    "#Task:\n",
    "#Generate a list of numbers starting from 2, increasing by 2 each step, until the list contains 14 elements. Store it in a variable named asc_list.\n",
    "asc_list = [2 * i for i in range(1, 15)]\n",
    "\n",
    "print(asc_list)\n"
   ]
  },
  {
   "cell_type": "code",
   "execution_count": 25,
   "metadata": {},
   "outputs": [
    {
     "name": "stdout",
     "output_type": "stream",
     "text": [
      "[2, 4, 6, 8, 10, 12, 14, 16, 18, 20, 22, 24, 26, 28, [15, 12, 9, 6, 3], 15, 12, 9, 6, 3]\n"
     ]
    }
   ],
   "source": [
    "#Question 6: Combining and Separating Lists\n",
    "#Task:\n",
    "#combine the lists generated in Questions 4 and 5 into a single list named combined_list.\n",
    "#Separate the even and odd numbers from combined_list into two separate lists: even_numbers and odd_numbers.\n",
    "\n",
    "\n",
    "combined_list = asc_list + desc_list\n",
    "print (combined_list)"
   ]
  },
  {
   "cell_type": "code",
   "execution_count": null,
   "metadata": {},
   "outputs": [],
   "source": [
    "#Question 7: Functions\n",
    "#Task:\n",
    "#Create a function circle_properties(radius) that takes in the radius of a circle and returns both the area and circumference.#"
   ]
  },
  {
   "cell_type": "code",
   "execution_count": null,
   "metadata": {},
   "outputs": [],
   "source": [
    "#Question 8: Custom Function\n",
    "#Task:\n",
    "#Define a function that performs a task you find interesting. Demonstrate how this function works."
   ]
  },
  {
   "cell_type": "code",
   "execution_count": null,
   "metadata": {},
   "outputs": [],
   "source": [
    "#Question 9: Creating and Manipulating Dictionaries\n",
    "#Task:\n",
    "#(a) Create a dictionary named student_grades with the following keys and values: \"Alice\": 85, \"Bob\": 90, and \"Charlie\": 78.\n",
    "#(b) Add a new student, \"David\", with a grade of 92 to the student_grades dictionary.\n",
    "#(c) Update \"Alice\"'s grade to 88."
   ]
  },
  {
   "cell_type": "code",
   "execution_count": null,
   "metadata": {},
   "outputs": [],
   "source": [
    "#Question 10: Using Dictionaries to Count Occurrences\n",
    "#Task:\n",
    "#Given the list of fruits [\"apple\", \"banana\", \"apple\", \"orange\", \"banana\", \"apple\"], create a dictionary named fruit_count that counts the number of times each fruit appears in the list.\n"
   ]
  }
 ],
 "metadata": {
  "kernelspec": {
   "display_name": "Python 3",
   "language": "python",
   "name": "python3"
  },
  "language_info": {
   "codemirror_mode": {
    "name": "ipython",
    "version": 3
   },
   "file_extension": ".py",
   "mimetype": "text/x-python",
   "name": "python",
   "nbconvert_exporter": "python",
   "pygments_lexer": "ipython3",
   "version": "3.9.6"
  }
 },
 "nbformat": 4,
 "nbformat_minor": 2
}
