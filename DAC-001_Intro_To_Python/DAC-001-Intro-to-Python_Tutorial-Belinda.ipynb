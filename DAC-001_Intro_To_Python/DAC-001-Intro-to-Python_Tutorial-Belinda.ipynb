{
 "cells": [
  {
   "cell_type": "code",
   "execution_count": null,
   "metadata": {},
   "outputs": [],
   "source": [
    "#Question 1: Lists\n",
    "#Task:\n",
    "#(a) Create a list named fruits with the items \"apple\", \"orange\", and \"banana\".\n",
    "#(b) Add \"tomato\" to the end of the fruits list.\n",
    "#(c) Remove \"apple\" from the fruits list.\n",
    "\n",
    "\n",
    "    \n",
    "\n"
   ]
  }
 ],
 "metadata": {
  "language_info": {
   "name": "python"
  }
 },
 "nbformat": 4,
 "nbformat_minor": 2
}
